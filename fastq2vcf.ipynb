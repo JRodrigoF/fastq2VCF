{
 "cells": [
  {
   "cell_type": "markdown",
   "metadata": {},
   "source": [
    "## fastq2vcf\n",
    "### Tutorial intended to cover the analysis of human NGS data. In particular the processing of fastq files in order to get variants in VCF format. \n",
    "\n",
    "Links: \n",
    "\n",
    "\n"
   ]
  },
  {
   "cell_type": "markdown",
   "metadata": {},
   "source": [
    "#### Fastq Downloading\n",
    "\n",
    "We are going to use public data from the Simons Genomes Diversity Project ([SGDP](https://reichdata.hms.harvard.edu/pub/datasets/sgdp/)). Specifically 7 selected genomes from each 'Region' included in the dataset. The SGDP Project ID in ENA repository is [PRJEB9586](https://www.ebi.ac.uk/ena/browser/view/PRJEB9586)."
   ]
  },
  {
   "cell_type": "code",
   "execution_count": null,
   "metadata": {},
   "outputs": [],
   "source": [
    "import pandas as pd\n",
    "\n",
    "from IPython.core.interactiveshell import InteractiveShell\n",
    "InteractiveShell.ast_node_interactivity = \"all\"\n",
    "\n",
    "SGDP_ENA_PID = 'PRJEB9586'\n",
    "ENA_URL = 'https://www.ebi.ac.uk/ena/data/warehouse/filereport?accession=' + SGDP_ENA_PID + '&result=read_run'\n",
    "metadata_URL = 'https://sharehost.hms.harvard.edu/genetics/reich_lab/sgdp/SGDP_metadata.279public.21signedLetter.samples.txt'\n",
    "\n",
    "download_table = pd.read_csv(ENA_URL, sep='\\t')\n",
    "download_table = download_table[download_table['submitted_format']=='FASTQ;FASTQ']\n",
    "# download_table.head()\n",
    "\n",
    "metadata = pd.read_csv(metadata_URL, encoding=\"ISO-8859-1\", sep='\\t')\n",
    "metadata = metadata[(metadata['#Sequencing_Panel']=='C') & (metadata['Embargo']=='FullyPublic')]\n",
    "metadata = metadata.drop_duplicates(subset=['Region'], keep='last')\n",
    "\n",
    "download_table = download_table[download_table['library_name'].isin([x for x in metadata['Illumina_ID']])]\n",
    "# download_table\n",
    "\n",
    "[wd] = !pwd\n",
    "for sample_ID in metadata['Illumina_ID']:\n",
    "    !mkdir -p fastq/{sample_ID}\n",
    "#     !cd fastq/{sample_ID} \n",
    "    \n",
    "    print(\"Dowloading fastq files for sample:\", sample_ID)\n",
    "    fastq_1 = download_table[download_table['library_name']==sample_ID]['fastq_ftp'].str.split(';').values\n",
    "    fastq_2 = download_table[download_table['library_name']==sample_ID]['fastq_ftp'].str.split(';').values\n",
    "    !wget -b -t=100 -c {fastq_1[0][0]}; wget -b -t=100 -c {fastq_1[0][1]}\n",
    "    \n",
    "    !mv *.fastq.gz fastq/{sample_ID}     \n",
    "#     !cd {wd}"
   ]
  },
  {
   "cell_type": "markdown",
   "metadata": {},
   "source": [
    "#### MD5 checksum\n",
    "\n",
    "\n",
    "..........."
   ]
  },
  {
   "cell_type": "code",
   "execution_count": null,
   "metadata": {},
   "outputs": [],
   "source": [
    "for sample_ID in metadata['Illumina_ID']:\n",
    "    !cd fastq/{sample_ID} \n",
    "    \n",
    "    print(\"MD5 checksum for fastq files of sample:\", sample_ID)    \n",
    "    md5_1 = download_table[download_table['library_name']==sample_ID]['fastq_md5'].str.split(';').values\n",
    "    md5_2 = download_table[download_table['library_name']==sample_ID]['fastq_md5'].str.split(';').values\n",
    "    \n",
    "    # md5 command\n",
    "    # ..\n",
    "#     !cd {wd}"
   ]
  },
  {
   "cell_type": "markdown",
   "metadata": {},
   "source": []
  },
  {
   "cell_type": "code",
   "execution_count": null,
   "metadata": {},
   "outputs": [],
   "source": []
  },
  {
   "cell_type": "markdown",
   "metadata": {},
   "source": []
  },
  {
   "cell_type": "code",
   "execution_count": null,
   "metadata": {},
   "outputs": [],
   "source": []
  },
  {
   "cell_type": "markdown",
   "metadata": {},
   "source": []
  },
  {
   "cell_type": "code",
   "execution_count": null,
   "metadata": {},
   "outputs": [],
   "source": []
  },
  {
   "cell_type": "markdown",
   "metadata": {},
   "source": []
  },
  {
   "cell_type": "code",
   "execution_count": null,
   "metadata": {},
   "outputs": [],
   "source": []
  },
  {
   "cell_type": "markdown",
   "metadata": {},
   "source": []
  },
  {
   "cell_type": "code",
   "execution_count": null,
   "metadata": {},
   "outputs": [],
   "source": []
  },
  {
   "cell_type": "markdown",
   "metadata": {},
   "source": []
  }
 ],
 "metadata": {
  "celltoolbar": "Tags",
  "kernelspec": {
   "display_name": "Python 3",
   "language": "python",
   "name": "python3"
  },
  "language_info": {
   "codemirror_mode": {
    "name": "ipython",
    "version": 3
   },
   "file_extension": ".py",
   "mimetype": "text/x-python",
   "name": "python",
   "nbconvert_exporter": "python",
   "pygments_lexer": "ipython3",
   "version": "3.7.3"
  }
 },
 "nbformat": 4,
 "nbformat_minor": 2
}
